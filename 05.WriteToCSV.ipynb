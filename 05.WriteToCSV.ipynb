{
 "cells": [
  {
   "cell_type": "code",
   "execution_count": 1,
   "id": "66245a2a-71c4-4905-9953-1f06911d535c",
   "metadata": {},
   "outputs": [],
   "source": [
    "import pandas as pd"
   ]
  },
  {
   "cell_type": "code",
   "execution_count": 4,
   "id": "22879ed9-1ce3-4e1c-9f4c-3456f66634f6",
   "metadata": {},
   "outputs": [],
   "source": [
    "var = pd.DataFrame({\"A\":[1,2,3,4,5],\"B\":[11,12,13,14,15]})\n",
    "var\n",
    "var.to_csv(\"test_file\",index=False)"
   ]
  },
  {
   "cell_type": "code",
   "execution_count": null,
   "id": "275b93d2-7e67-4da7-8f14-ddb7754f72b8",
   "metadata": {},
   "outputs": [],
   "source": []
  }
 ],
 "metadata": {
  "kernelspec": {
   "display_name": "Python 3 (ipykernel)",
   "language": "python",
   "name": "python3"
  },
  "language_info": {
   "codemirror_mode": {
    "name": "ipython",
    "version": 3
   },
   "file_extension": ".py",
   "mimetype": "text/x-python",
   "name": "python",
   "nbconvert_exporter": "python",
   "pygments_lexer": "ipython3",
   "version": "3.12.0"
  }
 },
 "nbformat": 4,
 "nbformat_minor": 5
}
