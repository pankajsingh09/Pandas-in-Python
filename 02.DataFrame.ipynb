{
 "cells": [
  {
   "cell_type": "markdown",
   "id": "cd1c8f3c-eb02-41c5-9fd9-0f2ce89fd8c3",
   "metadata": {},
   "source": [
    "# DataFrame"
   ]
  },
  {
   "cell_type": "code",
   "execution_count": 2,
   "id": "a6149964-b14e-4e23-a321-90ea5506c0fc",
   "metadata": {},
   "outputs": [
    {
     "name": "stdout",
     "output_type": "stream",
     "text": [
      "   0\n",
      "0  1\n",
      "1  2\n",
      "2  3\n",
      "3  4\n",
      "4  5\n",
      "<class 'pandas.core.frame.DataFrame'>\n"
     ]
    }
   ],
   "source": [
    "import pandas as pd\n",
    "\n",
    "x = [1,2,3,4,5]\n",
    "var = pd.DataFrame(x)\n",
    "print(var)\n",
    "print(type(var))"
   ]
  },
  {
   "cell_type": "code",
   "execution_count": 3,
   "id": "f5720db1-6b7c-4428-9dbd-f163de09c47b",
   "metadata": {},
   "outputs": [
    {
     "name": "stdout",
     "output_type": "stream",
     "text": [
      "   a  s\n",
      "0  1  1\n",
      "1  2  2\n",
      "2  3  3\n",
      "3  4  4\n",
      "4  5  5\n",
      "<class 'pandas.core.frame.DataFrame'>\n"
     ]
    }
   ],
   "source": [
    "d = {\"a\":[1,2,3,4,5],\"s\":[1,2,3,4,5]}\n",
    "var1 = pd.DataFrame(d)\n",
    "print(var1)\n",
    "print(type(var1))"
   ]
  },
  {
   "cell_type": "code",
   "execution_count": 6,
   "id": "3eff0a25-6da8-480b-912b-8a1909fd88f9",
   "metadata": {},
   "outputs": [
    {
     "name": "stdout",
     "output_type": "stream",
     "text": [
      "   a   d\n",
      "a  1  11\n",
      "b  2  22\n",
      "s  3  33\n",
      "f  4  44\n",
      "g  5  55\n",
      "<class 'pandas.core.frame.DataFrame'>\n"
     ]
    }
   ],
   "source": [
    "d = {\"a\":[1,2,3,4,5],\"s\":[11,12,13,14,15],\"d\":[11,22,33,44,55],\"f\":[21,22,23,24,25]}\n",
    "var1 = pd.DataFrame(d,columns=['a','d'],index=['a','b','s','f','g'])\n",
    "print(var1)\n",
    "print(type(var1))"
   ]
  },
  {
   "cell_type": "code",
   "execution_count": 9,
   "id": "71f53515-ad17-41e3-bdad-c5220cb755aa",
   "metadata": {},
   "outputs": [
    {
     "name": "stdout",
     "output_type": "stream",
     "text": [
      "   a   s   d   f\n",
      "0  1  11  11  21\n",
      "1  2  12  22  22\n",
      "2  3  13  33  23\n",
      "3  4  14  44  24\n",
      "4  5  15  55  25\n",
      "<class 'pandas.core.frame.DataFrame'>\n",
      "14\n"
     ]
    }
   ],
   "source": [
    "d = {\"a\":[1,2,3,4,5],\"s\":[11,12,13,14,15],\"d\":[11,22,33,44,55],\"f\":[21,22,23,24,25]}\n",
    "var1 = pd.DataFrame(d)\n",
    "print(var1)\n",
    "print(type(var1))\n",
    "print(var1['s'][3])"
   ]
  },
  {
   "cell_type": "code",
   "execution_count": 10,
   "id": "28a42eca-6723-4322-b101-2c9051fd9a61",
   "metadata": {},
   "outputs": [
    {
     "name": "stdout",
     "output_type": "stream",
     "text": [
      "    0   1   2   3   4\n",
      "0   1   2   3   4   5\n",
      "1  11  12  13  14  15\n",
      "<class 'pandas.core.frame.DataFrame'>\n"
     ]
    }
   ],
   "source": [
    "list1 = [1,2,3,4,5],[11,12,13,14,15]\n",
    "var2 = pd.DataFrame(list1)\n",
    "print(var2)\n",
    "print(type(var2))"
   ]
  },
  {
   "cell_type": "code",
   "execution_count": 11,
   "id": "cf4281db-6bc5-41d2-9c15-2d08bc15ef43",
   "metadata": {},
   "outputs": [
    {
     "name": "stdout",
     "output_type": "stream",
     "text": [
      "   s   d\n",
      "0  1  11\n",
      "1  2  12\n",
      "2  3  13\n",
      "3  4  14\n",
      "4  5  15\n",
      "<class 'pandas.core.frame.DataFrame'>\n"
     ]
    }
   ],
   "source": [
    "sr = {\"s\":pd.Series([1,2,3,4,5]),\"d\":pd.Series([11,12,13,14,15])}\n",
    "var3 = pd.DataFrame(sr)\n",
    "print(var3)\n",
    "print(type(var3))"
   ]
  },
  {
   "cell_type": "code",
   "execution_count": null,
   "id": "d8509854-9d24-47aa-8f0d-e532895f7ffe",
   "metadata": {},
   "outputs": [],
   "source": []
  }
 ],
 "metadata": {
  "kernelspec": {
   "display_name": "Python 3 (ipykernel)",
   "language": "python",
   "name": "python3"
  },
  "language_info": {
   "codemirror_mode": {
    "name": "ipython",
    "version": 3
   },
   "file_extension": ".py",
   "mimetype": "text/x-python",
   "name": "python",
   "nbconvert_exporter": "python",
   "pygments_lexer": "ipython3",
   "version": "3.12.0"
  }
 },
 "nbformat": 4,
 "nbformat_minor": 5
}
